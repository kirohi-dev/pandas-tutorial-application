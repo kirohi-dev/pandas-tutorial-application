{
 "cells": [
  {
   "cell_type": "code",
   "execution_count": 3,
   "source": [
    "import pandas as pd\n",
    "csv = pd.read_csv('../csvs/transaction_1.csv')\n",
    "\n",
    "he = csv.head()\n",
    "print(he)"
   ],
   "outputs": [
    {
     "output_type": "stream",
     "name": "stdout",
     "text": [
      "  transaction_id   price         payment_date customer_id\n",
      "0    T0000000113  210000  2019-02-01 01:36:57    PL563502\n",
      "1    T0000000114   50000  2019-02-01 01:37:23    HD678019\n",
      "2    T0000000115  120000  2019-02-01 02:34:19    HD298120\n",
      "3    T0000000116  210000  2019-02-01 02:47:23    IK452215\n",
      "4    T0000000117  170000  2019-02-01 04:33:46    PL542865\n"
     ]
    }
   ],
   "metadata": {}
  },
  {
   "cell_type": "code",
   "execution_count": 10,
   "source": [
    "import pandas as pd\n",
    "\n",
    "transaction_1 = pd.read_csv('../csvs/transaction_1.csv')\n",
    "transaction_2 = pd.read_csv('../csvs/transaction_2.csv')\n",
    "\n",
    "\n",
    "transaction = pd.concat([transaction_1, transaction_2], ignore_index=True)\n",
    "\n",
    "\n",
    "transaction.to_csv('../csvs/transaction.csv', index=False)"
   ],
   "outputs": [],
   "metadata": {}
  },
  {
   "cell_type": "markdown",
   "source": [],
   "metadata": {}
  },
  {
   "cell_type": "code",
   "execution_count": 11,
   "source": [
    "import pandas as pd\n",
    "\n",
    "detail_1 = pd.read_csv('../csvs/transaction_detail_1.csv')\n",
    "detail_2 = pd.read_csv('../csvs/transaction_detail_2.csv')\n",
    "\n",
    "\n",
    "detail = pd.concat([detail_1, detail_2], ignore_index=True)\n",
    "\n",
    "\n",
    "detail.to_csv('../csvs/detail.csv', index=False)"
   ],
   "outputs": [],
   "metadata": {}
  },
  {
   "cell_type": "code",
   "execution_count": 13,
   "source": [
    "import pandas as pd\n",
    "\n",
    "detail = pd.read_csv('../csvs/detail.csv')\n",
    "tran = pd.read_csv('../csvs/transaction.csv')\n",
    "\n",
    "join_data = pd.merge(detail, transaction, on='transaction_id', how='left')\n",
    "\n",
    "\n",
    "print(join_data.head())"
   ],
   "outputs": [
    {
     "output_type": "stream",
     "name": "stdout",
     "text": [
      "   detail_id transaction_id item_id  quantity   price         payment_date  \\\n",
      "0          0    T0000000113    S005         1  210000  2019-02-01 01:36:57   \n",
      "1          1    T0000000114    S001         1   50000  2019-02-01 01:37:23   \n",
      "2          2    T0000000115    S003         1  120000  2019-02-01 02:34:19   \n",
      "3          3    T0000000116    S005         1  210000  2019-02-01 02:47:23   \n",
      "4          4    T0000000117    S002         2  170000  2019-02-01 04:33:46   \n",
      "\n",
      "  customer_id  \n",
      "0    PL563502  \n",
      "1    HD678019  \n",
      "2    HD298120  \n",
      "3    IK452215  \n",
      "4    PL542865  \n"
     ]
    }
   ],
   "metadata": {}
  },
  {
   "cell_type": "code",
   "execution_count": 3,
   "source": [
    "import pandas as pd\n",
    "\n",
    "detail = pd.read_csv('../csvs/detail.csv')\n",
    "transaction = pd.read_csv('../csvs/transaction.csv')\n",
    "cust = pd.read_csv('../csvs/customer_master.csv')\n",
    "item = pd.read_csv('../csvs/item_master.csv')\n",
    "\n",
    "join_data = pd.merge(detail, transaction, on='transaction_id', how='left')\n",
    "join_data = pd.merge(join_data, cust, on='customer_id', how='left')\n",
    "join_data = pd.merge(join_data, item, on='item_id', how='left')\n",
    "\n",
    "print(join_data.head())"
   ],
   "outputs": [
    {
     "output_type": "stream",
     "name": "stdout",
     "text": [
      "   detail_id transaction_id item_id  quantity   price         payment_date  \\\n",
      "0          0    T0000000113    S005         1  210000  2019-02-01 01:36:57   \n",
      "1          1    T0000000114    S001         1   50000  2019-02-01 01:37:23   \n",
      "2          2    T0000000115    S003         1  120000  2019-02-01 02:34:19   \n",
      "3          3    T0000000116    S005         1  210000  2019-02-01 02:47:23   \n",
      "4          4    T0000000117    S002         2  170000  2019-02-01 04:33:46   \n",
      "\n",
      "  customer_id customer_name    registration_date customer_name_kana  \\\n",
      "0    PL563502         井本 芳正  2019-01-07 14:34:35           いもと よしまさ   \n",
      "1    HD678019         三船 六郎  2019-01-27 18:00:11           みふね ろくろう   \n",
      "2    HD298120         山根 小雁  2019-01-11 08:16:02            やまね こがん   \n",
      "3    IK452215         池田 菜摘  2019-01-10 05:07:38            いけだ なつみ   \n",
      "4    PL542865         栗田 憲一  2019-01-25 06:46:05           くりた けんいち   \n",
      "\n",
      "                         email gender  age       birth pref item_name  \\\n",
      "0  imoto_yoshimasa@example.com      M   30   1989/7/15  熊本県      PC-E   \n",
      "1   mifune_rokurou@example.com      M   73  1945/11/29  京都府      PC-A   \n",
      "2     yamane_kogan@example.com      M   42   1977/5/17  茨城県      PC-C   \n",
      "3    ikeda_natsumi@example.com      F   47   1972/3/17  兵庫県      PC-E   \n",
      "4   kurita_kenichi@example.com      M   74  1944/12/17  長崎県      PC-B   \n",
      "\n",
      "   item_price  \n",
      "0      210000  \n",
      "1       50000  \n",
      "2      120000  \n",
      "3      210000  \n",
      "4       85000  \n"
     ]
    }
   ],
   "metadata": {}
  },
  {
   "cell_type": "code",
   "execution_count": 5,
   "source": [
    "import pandas as pd\n",
    "\n",
    "detail = pd.read_csv('../csvs/detail.csv')\n",
    "transaction = pd.read_csv('../csvs/transaction.csv')\n",
    "cust = pd.read_csv('../csvs/customer_master.csv')\n",
    "item = pd.read_csv('../csvs/item_master.csv')\n",
    "\n",
    "join_data = pd.merge(detail, transaction, on='transaction_id', how='left')\n",
    "join_data = pd.merge(join_data, cust, on='customer_id', how='left')\n",
    "join_data = pd.merge(join_data, item, on='item_id', how='left')\n",
    "\n",
    "join_data['price'] = join_data['quantity'] * join_data['item_price']\n",
    "\n",
    "print(join_data[['quantity', 'item_price', 'price']].head())"
   ],
   "outputs": [
    {
     "output_type": "stream",
     "name": "stdout",
     "text": [
      "   quantity  item_price   price\n",
      "0         1      210000  210000\n",
      "1         1       50000   50000\n",
      "2         1      120000  120000\n",
      "3         1      210000  210000\n",
      "4         2       85000  170000\n"
     ]
    }
   ],
   "metadata": {}
  },
  {
   "cell_type": "code",
   "execution_count": 9,
   "source": [
    "import pandas as pd\n",
    "\n",
    "detail = pd.read_csv('../csvs/detail.csv')\n",
    "transaction = pd.read_csv('../csvs/transaction.csv')\n",
    "cust = pd.read_csv('../csvs/customer_master.csv')\n",
    "item = pd.read_csv('../csvs/item_master.csv')\n",
    "\n",
    "join_data = pd.merge(detail, transaction, on='transaction_id', how='left')\n",
    "join_data = pd.merge(join_data, cust, on='customer_id', how='left')\n",
    "join_data = pd.merge(join_data, item, on='item_id', how='left')\n",
    "\n",
    "join_data['price'] = join_data['quantity'] * join_data['item_price']\n",
    "\n",
    "join_data['payment_date'] = pd.to_datetime(join_data['payment_date'])\n",
    "join_data['payment_month'] = join_data['payment_date'].dt.strftime(\"%Y%m\")\n",
    "\n",
    "print(join_data[['payment_date', 'payment_month']].head())"
   ],
   "outputs": [
    {
     "output_type": "stream",
     "name": "stdout",
     "text": [
      "         payment_date payment_month\n",
      "0 2019-02-01 01:36:57        201902\n",
      "1 2019-02-01 01:37:23        201902\n",
      "2 2019-02-01 02:34:19        201902\n",
      "3 2019-02-01 02:47:23        201902\n",
      "4 2019-02-01 04:33:46        201902\n"
     ]
    }
   ],
   "metadata": {}
  },
  {
   "cell_type": "code",
   "execution_count": 13,
   "source": [
    "import pandas as pd\n",
    "\n",
    "detail = pd.read_csv('../csvs/detail.csv')\n",
    "transaction = pd.read_csv('../csvs/transaction.csv')\n",
    "cust = pd.read_csv('../csvs/customer_master.csv')\n",
    "item = pd.read_csv('../csvs/item_master.csv')\n",
    "\n",
    "join_data = pd.merge(detail, transaction, on='transaction_id', how='left')\n",
    "join_data = pd.merge(join_data, cust, on='customer_id', how='left')\n",
    "join_data = pd.merge(join_data, item, on='item_id', how='left')\n",
    "\n",
    "join_data['price'] = join_data['quantity'] * join_data['item_price']\n",
    "\n",
    "join_data['payment_date'] = pd.to_datetime(join_data['payment_date'])\n",
    "join_data['payment_month'] = join_data['payment_date'].dt.strftime(\"%Y%m\")\n",
    "\n",
    "print(join_data.groupby('payment_month').sum()[['price']])"
   ],
   "outputs": [
    {
     "output_type": "stream",
     "name": "stdout",
     "text": [
      "                   price\n",
      "payment_month           \n",
      "201902         160185000\n",
      "201903         160370000\n",
      "201904         160510000\n",
      "201905         155420000\n",
      "201906         164030000\n",
      "201907         170620000\n"
     ]
    }
   ],
   "metadata": {}
  },
  {
   "cell_type": "code",
   "execution_count": 22,
   "source": [
    "import pandas as pd\n",
    "\n",
    "detail = pd.read_csv('../csvs/detail.csv')\n",
    "transaction = pd.read_csv('../csvs/transaction.csv')\n",
    "cust = pd.read_csv('../csvs/customer_master.csv')\n",
    "item = pd.read_csv('../csvs/item_master.csv')\n",
    "\n",
    "print(item)\n",
    "\n",
    "\n",
    "join_data = pd.merge(detail, transaction, on='transaction_id', how='left')\n",
    "\n",
    "\n",
    "\n",
    "\n",
    "join_data = pd.merge(join_data, item, on='item_id', how='left')\n",
    "\n",
    "join_data = pd.merge(join_data, cust, on='customer_id', how='left')\n",
    "\n",
    "print(join_data)\n",
    "\n",
    "join_data['price'] = join_data['quantity'] * join_data['item_price']\n",
    "\n",
    "join_data['payment_date'] = pd.to_datetime(join_data['payment_date'])\n",
    "join_data['payment_month'] = join_data['payment_date'].dt.strftime(\"%Y%m\")\n",
    "\n",
    "# print(join_data.groupby('payment_month','item_name').sum()[['price', 'quantity']])"
   ],
   "outputs": [
    {
     "output_type": "stream",
     "name": "stdout",
     "text": [
      "  item_id item_name  item_price\n",
      "0    S001      PC-A       50000\n",
      "1    S002      PC-B       85000\n",
      "2    S003      PC-C      120000\n",
      "3    S004      PC-D      180000\n",
      "4    S005      PC-E      210000\n",
      "      detail_id transaction_id item_id  quantity   price         payment_date  \\\n",
      "0             0    T0000000113    S005         1  210000  2019-02-01 01:36:57   \n",
      "1             1    T0000000114    S001         1   50000  2019-02-01 01:37:23   \n",
      "2             2    T0000000115    S003         1  120000  2019-02-01 02:34:19   \n",
      "3             3    T0000000116    S005         1  210000  2019-02-01 02:47:23   \n",
      "4             4    T0000000117    S002         2  170000  2019-02-01 04:33:46   \n",
      "...         ...            ...     ...       ...     ...                  ...   \n",
      "7139       7139    T0000006894    S004         1  180000  2019-07-31 21:20:44   \n",
      "7140       7140    T0000006895    S002         1   85000  2019-07-31 21:52:48   \n",
      "7141       7141    T0000006896    S001         2  100000  2019-07-31 23:35:25   \n",
      "7142       7142    T0000006897    S002         1   85000  2019-07-31 23:39:35   \n",
      "7143       7143    T0000006898    S002         1   85000  2019-07-31 23:41:38   \n",
      "\n",
      "     customer_id item_name  item_price  \n",
      "0       PL563502      PC-E      210000  \n",
      "1       HD678019      PC-A       50000  \n",
      "2       HD298120      PC-C      120000  \n",
      "3       IK452215      PC-E      210000  \n",
      "4       PL542865      PC-B       85000  \n",
      "...          ...       ...         ...  \n",
      "7139    HI400734      PC-D      180000  \n",
      "7140    AS339451      PC-B       85000  \n",
      "7141    OA027325      PC-A       50000  \n",
      "7142    TS624738      PC-B       85000  \n",
      "7143    AS834214      PC-B       85000  \n",
      "\n",
      "[7144 rows x 9 columns]\n"
     ]
    }
   ],
   "metadata": {}
  }
 ],
 "metadata": {
  "orig_nbformat": 4,
  "language_info": {
   "name": "python",
   "version": "3.9.4",
   "mimetype": "text/x-python",
   "codemirror_mode": {
    "name": "ipython",
    "version": 3
   },
   "pygments_lexer": "ipython3",
   "nbconvert_exporter": "python",
   "file_extension": ".py"
  },
  "kernelspec": {
   "name": "python3",
   "display_name": "Python 3.9.2 64-bit ('.venv': pipenv)"
  },
  "interpreter": {
   "hash": "bb1879047003ec203b416c4b312ff1e4c8c37d9108f47c026613badfeae5efe3"
  }
 },
 "nbformat": 4,
 "nbformat_minor": 2
}