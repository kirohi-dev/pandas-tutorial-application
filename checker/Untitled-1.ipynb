{
 "cells": [
  {
   "cell_type": "code",
   "execution_count": 3,
   "source": [
    "import pandas as pd\n",
    "csv = pd.read_csv('../csvs/transaction_1.csv')\n",
    "\n",
    "he = csv.head()\n",
    "print(he)"
   ],
   "outputs": [
    {
     "output_type": "stream",
     "name": "stdout",
     "text": [
      "  transaction_id   price         payment_date customer_id\n",
      "0    T0000000113  210000  2019-02-01 01:36:57    PL563502\n",
      "1    T0000000114   50000  2019-02-01 01:37:23    HD678019\n",
      "2    T0000000115  120000  2019-02-01 02:34:19    HD298120\n",
      "3    T0000000116  210000  2019-02-01 02:47:23    IK452215\n",
      "4    T0000000117  170000  2019-02-01 04:33:46    PL542865\n"
     ]
    }
   ],
   "metadata": {}
  },
  {
   "cell_type": "code",
   "execution_count": 10,
   "source": [
    "import pandas as pd\n",
    "\n",
    "transaction_1 = pd.read_csv('../csvs/transaction_1.csv')\n",
    "transaction_2 = pd.read_csv('../csvs/transaction_2.csv')\n",
    "\n",
    "\n",
    "transaction = pd.concat([transaction_1, transaction_2], ignore_index=True)\n",
    "\n",
    "\n",
    "transaction.to_csv('../csvs/transaction.csv', index=False)"
   ],
   "outputs": [],
   "metadata": {}
  },
  {
   "cell_type": "markdown",
   "source": [],
   "metadata": {}
  },
  {
   "cell_type": "code",
   "execution_count": 11,
   "source": [
    "import pandas as pd\n",
    "\n",
    "detail_1 = pd.read_csv('../csvs/transaction_detail_1.csv')\n",
    "detail_2 = pd.read_csv('../csvs/transaction_detail_2.csv')\n",
    "\n",
    "\n",
    "detail = pd.concat([detail_1, detail_2], ignore_index=True)\n",
    "\n",
    "\n",
    "detail.to_csv('../csvs/detail.csv', index=False)"
   ],
   "outputs": [],
   "metadata": {}
  },
  {
   "cell_type": "code",
   "execution_count": 13,
   "source": [
    "import pandas as pd\n",
    "\n",
    "detail = pd.read_csv('../csvs/detail.csv')\n",
    "tran = pd.read_csv('../csvs/transaction.csv')\n",
    "\n",
    "join_data = pd.merge(detail, transaction, on='transaction_id', how='left')\n",
    "\n",
    "\n",
    "print(join_data.head())"
   ],
   "outputs": [
    {
     "output_type": "stream",
     "name": "stdout",
     "text": [
      "   detail_id transaction_id item_id  quantity   price         payment_date  \\\n",
      "0          0    T0000000113    S005         1  210000  2019-02-01 01:36:57   \n",
      "1          1    T0000000114    S001         1   50000  2019-02-01 01:37:23   \n",
      "2          2    T0000000115    S003         1  120000  2019-02-01 02:34:19   \n",
      "3          3    T0000000116    S005         1  210000  2019-02-01 02:47:23   \n",
      "4          4    T0000000117    S002         2  170000  2019-02-01 04:33:46   \n",
      "\n",
      "  customer_id  \n",
      "0    PL563502  \n",
      "1    HD678019  \n",
      "2    HD298120  \n",
      "3    IK452215  \n",
      "4    PL542865  \n"
     ]
    }
   ],
   "metadata": {}
  },
  {
   "cell_type": "code",
   "execution_count": 3,
   "source": [
    "import pandas as pd\n",
    "\n",
    "detail = pd.read_csv('../csvs/detail.csv')\n",
    "transaction = pd.read_csv('../csvs/transaction.csv')\n",
    "cust = pd.read_csv('../csvs/customer_master.csv')\n",
    "item = pd.read_csv('../csvs/item_master.csv')\n",
    "\n",
    "join_data = pd.merge(detail, transaction, on='transaction_id', how='left')\n",
    "join_data = pd.merge(join_data, cust, on='customer_id', how='left')\n",
    "join_data = pd.merge(join_data, item, on='item_id', how='left')\n",
    "\n",
    "print(join_data.head())"
   ],
   "outputs": [
    {
     "output_type": "stream",
     "name": "stdout",
     "text": [
      "   detail_id transaction_id item_id  quantity   price         payment_date  \\\n",
      "0          0    T0000000113    S005         1  210000  2019-02-01 01:36:57   \n",
      "1          1    T0000000114    S001         1   50000  2019-02-01 01:37:23   \n",
      "2          2    T0000000115    S003         1  120000  2019-02-01 02:34:19   \n",
      "3          3    T0000000116    S005         1  210000  2019-02-01 02:47:23   \n",
      "4          4    T0000000117    S002         2  170000  2019-02-01 04:33:46   \n",
      "\n",
      "  customer_id customer_name    registration_date customer_name_kana  \\\n",
      "0    PL563502         井本 芳正  2019-01-07 14:34:35           いもと よしまさ   \n",
      "1    HD678019         三船 六郎  2019-01-27 18:00:11           みふね ろくろう   \n",
      "2    HD298120         山根 小雁  2019-01-11 08:16:02            やまね こがん   \n",
      "3    IK452215         池田 菜摘  2019-01-10 05:07:38            いけだ なつみ   \n",
      "4    PL542865         栗田 憲一  2019-01-25 06:46:05           くりた けんいち   \n",
      "\n",
      "                         email gender  age       birth pref item_name  \\\n",
      "0  imoto_yoshimasa@example.com      M   30   1989/7/15  熊本県      PC-E   \n",
      "1   mifune_rokurou@example.com      M   73  1945/11/29  京都府      PC-A   \n",
      "2     yamane_kogan@example.com      M   42   1977/5/17  茨城県      PC-C   \n",
      "3    ikeda_natsumi@example.com      F   47   1972/3/17  兵庫県      PC-E   \n",
      "4   kurita_kenichi@example.com      M   74  1944/12/17  長崎県      PC-B   \n",
      "\n",
      "   item_price  \n",
      "0      210000  \n",
      "1       50000  \n",
      "2      120000  \n",
      "3      210000  \n",
      "4       85000  \n"
     ]
    }
   ],
   "metadata": {}
  },
  {
   "cell_type": "code",
   "execution_count": 5,
   "source": [
    "import pandas as pd\n",
    "\n",
    "detail = pd.read_csv('../csvs/detail.csv')\n",
    "transaction = pd.read_csv('../csvs/transaction.csv')\n",
    "cust = pd.read_csv('../csvs/customer_master.csv')\n",
    "item = pd.read_csv('../csvs/item_master.csv')\n",
    "\n",
    "join_data = pd.merge(detail, transaction, on='transaction_id', how='left')\n",
    "join_data = pd.merge(join_data, cust, on='customer_id', how='left')\n",
    "join_data = pd.merge(join_data, item, on='item_id', how='left')\n",
    "\n",
    "join_data['price'] = join_data['quantity'] * join_data['item_price']\n",
    "\n",
    "print(join_data[['quantity', 'item_price', 'price']].head())"
   ],
   "outputs": [
    {
     "output_type": "stream",
     "name": "stdout",
     "text": [
      "   quantity  item_price   price\n",
      "0         1      210000  210000\n",
      "1         1       50000   50000\n",
      "2         1      120000  120000\n",
      "3         1      210000  210000\n",
      "4         2       85000  170000\n"
     ]
    }
   ],
   "metadata": {}
  },
  {
   "cell_type": "code",
   "execution_count": 9,
   "source": [
    "import pandas as pd\n",
    "\n",
    "detail = pd.read_csv('../csvs/detail.csv')\n",
    "transaction = pd.read_csv('../csvs/transaction.csv')\n",
    "cust = pd.read_csv('../csvs/customer_master.csv')\n",
    "item = pd.read_csv('../csvs/item_master.csv')\n",
    "\n",
    "join_data = pd.merge(detail, transaction, on='transaction_id', how='left')\n",
    "join_data = pd.merge(join_data, cust, on='customer_id', how='left')\n",
    "join_data = pd.merge(join_data, item, on='item_id', how='left')\n",
    "\n",
    "join_data['price'] = join_data['quantity'] * join_data['item_price']\n",
    "\n",
    "join_data['payment_date'] = pd.to_datetime(join_data['payment_date'])\n",
    "join_data['payment_month'] = join_data['payment_date'].dt.strftime(\"%Y%m\")\n",
    "\n",
    "print(join_data[['payment_date', 'payment_month']].head())"
   ],
   "outputs": [
    {
     "output_type": "stream",
     "name": "stdout",
     "text": [
      "         payment_date payment_month\n",
      "0 2019-02-01 01:36:57        201902\n",
      "1 2019-02-01 01:37:23        201902\n",
      "2 2019-02-01 02:34:19        201902\n",
      "3 2019-02-01 02:47:23        201902\n",
      "4 2019-02-01 04:33:46        201902\n"
     ]
    }
   ],
   "metadata": {}
  },
  {
   "cell_type": "code",
   "execution_count": 13,
   "source": [
    "import pandas as pd\n",
    "\n",
    "detail = pd.read_csv('../csvs/detail.csv')\n",
    "transaction = pd.read_csv('../csvs/transaction.csv')\n",
    "cust = pd.read_csv('../csvs/customer_master.csv')\n",
    "item = pd.read_csv('../csvs/item_master.csv')\n",
    "\n",
    "join_data = pd.merge(detail, transaction, on='transaction_id', how='left')\n",
    "join_data = pd.merge(join_data, cust, on='customer_id', how='left')\n",
    "join_data = pd.merge(join_data, item, on='item_id', how='left')\n",
    "\n",
    "join_data['price'] = join_data['quantity'] * join_data['item_price']\n",
    "\n",
    "join_data['payment_date'] = pd.to_datetime(join_data['payment_date'])\n",
    "join_data['payment_month'] = join_data['payment_date'].dt.strftime(\"%Y%m\")\n",
    "\n",
    "print(join_data.groupby('payment_month').sum()[['price']])"
   ],
   "outputs": [
    {
     "output_type": "stream",
     "name": "stdout",
     "text": [
      "                   price\n",
      "payment_month           \n",
      "201902         160185000\n",
      "201903         160370000\n",
      "201904         160510000\n",
      "201905         155420000\n",
      "201906         164030000\n",
      "201907         170620000\n"
     ]
    }
   ],
   "metadata": {}
  },
  {
   "cell_type": "code",
   "execution_count": 25,
   "source": [
    "import pandas as pd\n",
    "\n",
    "detail = pd.read_csv('../csvs/detail.csv')\n",
    "transaction = pd.read_csv('../csvs/transaction.csv')\n",
    "cust = pd.read_csv('../csvs/customer_master.csv')\n",
    "item = pd.read_csv('../csvs/item_master.csv')\n",
    "\n",
    "join_data = pd.merge(detail, transaction, on='transaction_id', how='left')\n",
    "\n",
    "join_data = pd.merge(join_data, cust, on='customer_id', how='left')\n",
    "\n",
    "\n",
    "\n",
    "join_data = pd.merge(join_data, item, on='item_id', how='left')\n",
    "\n",
    "\n",
    "\n",
    "join_data['price'] = join_data['quantity'] * join_data['item_price']\n",
    "\n",
    "join_data['payment_date'] = pd.to_datetime(join_data['payment_date'])\n",
    "join_data['payment_month'] = join_data['payment_date'].dt.strftime(\"%Y%m\")\n",
    "\n",
    "print(join_data.groupby(['payment_month','item_name']).sum()[['price', 'quantity']].head())"
   ],
   "outputs": [
    {
     "output_type": "stream",
     "name": "stdout",
     "text": [
      "                            price  quantity\n",
      "payment_month item_name                    \n",
      "201902        PC-A       24150000       483\n",
      "              PC-B       25245000       297\n",
      "              PC-C       19800000       165\n",
      "              PC-D       31140000       173\n",
      "              PC-E       59850000       285\n"
     ]
    }
   ],
   "metadata": {}
  },
  {
   "cell_type": "code",
   "execution_count": 33,
   "source": [
    "import pandas as pb\n",
    "\n",
    "\n",
    "uriage = pb.read_csv('../csvs/uriage.csv')\n",
    "daichou = pb.read_excel('../csvs/kokyaku_daicho.xlsx')\n",
    "\n",
    "print(len(pb.unique(uriage.item_name)))\n"
   ],
   "outputs": [
    {
     "output_type": "error",
     "ename": "ValueError",
     "evalue": "could not broadcast input array from shape (2999,1) into shape (2999,)",
     "traceback": [
      "\u001b[0;31m---------------------------------------------------------------------------\u001b[0m",
      "\u001b[0;31mValueError\u001b[0m                                Traceback (most recent call last)",
      "\u001b[0;32m/var/folders/h6/2r87zt897hdc_nc3t0n204240000gn/T/ipykernel_1867/1845757307.py\u001b[0m in \u001b[0;36m<module>\u001b[0;34m\u001b[0m\n\u001b[1;32m      5\u001b[0m \u001b[0mdaichou\u001b[0m \u001b[0;34m=\u001b[0m \u001b[0mpb\u001b[0m\u001b[0;34m.\u001b[0m\u001b[0mread_excel\u001b[0m\u001b[0;34m(\u001b[0m\u001b[0;34m'../csvs/kokyaku_daicho.xlsx'\u001b[0m\u001b[0;34m)\u001b[0m\u001b[0;34m\u001b[0m\u001b[0;34m\u001b[0m\u001b[0m\n\u001b[1;32m      6\u001b[0m \u001b[0;34m\u001b[0m\u001b[0m\n\u001b[0;32m----> 7\u001b[0;31m \u001b[0mprint\u001b[0m\u001b[0;34m(\u001b[0m\u001b[0mlen\u001b[0m\u001b[0;34m(\u001b[0m\u001b[0mpb\u001b[0m\u001b[0;34m.\u001b[0m\u001b[0munique\u001b[0m\u001b[0;34m(\u001b[0m\u001b[0muriage\u001b[0m\u001b[0;34m[\u001b[0m\u001b[0;34m[\u001b[0m\u001b[0;34m'item_name'\u001b[0m\u001b[0;34m]\u001b[0m\u001b[0;34m]\u001b[0m\u001b[0;34m)\u001b[0m\u001b[0;34m)\u001b[0m\u001b[0;34m)\u001b[0m\u001b[0;34m\u001b[0m\u001b[0;34m\u001b[0m\u001b[0m\n\u001b[0m",
      "\u001b[0;32m~/my-lab/tutorial/python/pandas-tutorial-application/checker/.venv/lib/python3.9/site-packages/pandas/core/algorithms.py\u001b[0m in \u001b[0;36munique\u001b[0;34m(values)\u001b[0m\n\u001b[1;32m    419\u001b[0m     \u001b[0marray\u001b[0m\u001b[0;34m(\u001b[0m\u001b[0;34m[\u001b[0m\u001b[0;34m(\u001b[0m\u001b[0;34m'a'\u001b[0m\u001b[0;34m,\u001b[0m \u001b[0;34m'b'\u001b[0m\u001b[0;34m)\u001b[0m\u001b[0;34m,\u001b[0m \u001b[0;34m(\u001b[0m\u001b[0;34m'b'\u001b[0m\u001b[0;34m,\u001b[0m \u001b[0;34m'a'\u001b[0m\u001b[0;34m)\u001b[0m\u001b[0;34m,\u001b[0m \u001b[0;34m(\u001b[0m\u001b[0;34m'a'\u001b[0m\u001b[0;34m,\u001b[0m \u001b[0;34m'c'\u001b[0m\u001b[0;34m)\u001b[0m\u001b[0;34m]\u001b[0m\u001b[0;34m,\u001b[0m \u001b[0mdtype\u001b[0m\u001b[0;34m=\u001b[0m\u001b[0mobject\u001b[0m\u001b[0;34m)\u001b[0m\u001b[0;34m\u001b[0m\u001b[0;34m\u001b[0m\u001b[0m\n\u001b[1;32m    420\u001b[0m     \"\"\"\n\u001b[0;32m--> 421\u001b[0;31m     \u001b[0mvalues\u001b[0m \u001b[0;34m=\u001b[0m \u001b[0m_ensure_arraylike\u001b[0m\u001b[0;34m(\u001b[0m\u001b[0mvalues\u001b[0m\u001b[0;34m)\u001b[0m\u001b[0;34m\u001b[0m\u001b[0;34m\u001b[0m\u001b[0m\n\u001b[0m\u001b[1;32m    422\u001b[0m \u001b[0;34m\u001b[0m\u001b[0m\n\u001b[1;32m    423\u001b[0m     \u001b[0;32mif\u001b[0m \u001b[0mis_extension_array_dtype\u001b[0m\u001b[0;34m(\u001b[0m\u001b[0mvalues\u001b[0m\u001b[0;34m)\u001b[0m\u001b[0;34m:\u001b[0m\u001b[0;34m\u001b[0m\u001b[0;34m\u001b[0m\u001b[0m\n",
      "\u001b[0;32m~/my-lab/tutorial/python/pandas-tutorial-application/checker/.venv/lib/python3.9/site-packages/pandas/core/algorithms.py\u001b[0m in \u001b[0;36m_ensure_arraylike\u001b[0;34m(values)\u001b[0m\n\u001b[1;32m    235\u001b[0m             \u001b[0;32mif\u001b[0m \u001b[0misinstance\u001b[0m\u001b[0;34m(\u001b[0m\u001b[0mvalues\u001b[0m\u001b[0;34m,\u001b[0m \u001b[0mtuple\u001b[0m\u001b[0;34m)\u001b[0m\u001b[0;34m:\u001b[0m\u001b[0;34m\u001b[0m\u001b[0;34m\u001b[0m\u001b[0m\n\u001b[1;32m    236\u001b[0m                 \u001b[0mvalues\u001b[0m \u001b[0;34m=\u001b[0m \u001b[0mlist\u001b[0m\u001b[0;34m(\u001b[0m\u001b[0mvalues\u001b[0m\u001b[0;34m)\u001b[0m\u001b[0;34m\u001b[0m\u001b[0;34m\u001b[0m\u001b[0m\n\u001b[0;32m--> 237\u001b[0;31m             \u001b[0mvalues\u001b[0m \u001b[0;34m=\u001b[0m \u001b[0mconstruct_1d_object_array_from_listlike\u001b[0m\u001b[0;34m(\u001b[0m\u001b[0mvalues\u001b[0m\u001b[0;34m)\u001b[0m\u001b[0;34m\u001b[0m\u001b[0;34m\u001b[0m\u001b[0m\n\u001b[0m\u001b[1;32m    238\u001b[0m         \u001b[0;32melse\u001b[0m\u001b[0;34m:\u001b[0m\u001b[0;34m\u001b[0m\u001b[0;34m\u001b[0m\u001b[0m\n\u001b[1;32m    239\u001b[0m             \u001b[0mvalues\u001b[0m \u001b[0;34m=\u001b[0m \u001b[0mnp\u001b[0m\u001b[0;34m.\u001b[0m\u001b[0masarray\u001b[0m\u001b[0;34m(\u001b[0m\u001b[0mvalues\u001b[0m\u001b[0;34m)\u001b[0m\u001b[0;34m\u001b[0m\u001b[0;34m\u001b[0m\u001b[0m\n",
      "\u001b[0;32m~/my-lab/tutorial/python/pandas-tutorial-application/checker/.venv/lib/python3.9/site-packages/pandas/core/dtypes/cast.py\u001b[0m in \u001b[0;36mconstruct_1d_object_array_from_listlike\u001b[0;34m(values)\u001b[0m\n\u001b[1;32m   1988\u001b[0m     \u001b[0;31m# making a 1D array that contains list-likes is a bit tricky:\u001b[0m\u001b[0;34m\u001b[0m\u001b[0;34m\u001b[0m\u001b[0;34m\u001b[0m\u001b[0m\n\u001b[1;32m   1989\u001b[0m     \u001b[0mresult\u001b[0m \u001b[0;34m=\u001b[0m \u001b[0mnp\u001b[0m\u001b[0;34m.\u001b[0m\u001b[0mempty\u001b[0m\u001b[0;34m(\u001b[0m\u001b[0mlen\u001b[0m\u001b[0;34m(\u001b[0m\u001b[0mvalues\u001b[0m\u001b[0;34m)\u001b[0m\u001b[0;34m,\u001b[0m \u001b[0mdtype\u001b[0m\u001b[0;34m=\u001b[0m\u001b[0;34m\"object\"\u001b[0m\u001b[0;34m)\u001b[0m\u001b[0;34m\u001b[0m\u001b[0;34m\u001b[0m\u001b[0m\n\u001b[0;32m-> 1990\u001b[0;31m     \u001b[0mresult\u001b[0m\u001b[0;34m[\u001b[0m\u001b[0;34m:\u001b[0m\u001b[0;34m]\u001b[0m \u001b[0;34m=\u001b[0m \u001b[0mvalues\u001b[0m\u001b[0;34m\u001b[0m\u001b[0;34m\u001b[0m\u001b[0m\n\u001b[0m\u001b[1;32m   1991\u001b[0m     \u001b[0;32mreturn\u001b[0m \u001b[0mresult\u001b[0m\u001b[0;34m\u001b[0m\u001b[0;34m\u001b[0m\u001b[0m\n\u001b[1;32m   1992\u001b[0m \u001b[0;34m\u001b[0m\u001b[0m\n",
      "\u001b[0;31mValueError\u001b[0m: could not broadcast input array from shape (2999,1) into shape (2999,)"
     ]
    }
   ],
   "metadata": {}
  },
  {
   "cell_type": "code",
   "execution_count": 38,
   "source": [
    "import pandas as pb\n",
    "\n",
    "\n",
    "uriage = pb.read_csv('../csvs/uriage.csv')\n",
    "\n",
    "a = uriage['item_name']\n",
    "a = uriage[['item_name']]\n",
    "\n",
    "# upper\n",
    "uriage['item_name'] = uriage['item_name'].str.upper()\n",
    "# trim\n",
    "uriage['item_name']  = uriage['item_name'].str.replace('　', '')\n",
    "uriage['item_name']  = uriage['item_name'].str.replace(' ', '')\n",
    "# \n",
    "print(len(pb.unique(uriage.item_name)))"
   ],
   "outputs": [
    {
     "output_type": "stream",
     "name": "stdout",
     "text": [
      "26\n"
     ]
    }
   ],
   "metadata": {}
  },
  {
   "cell_type": "code",
   "execution_count": 56,
   "source": [
    "import pandas as pb\n",
    "\n",
    "\n",
    "uriage = pb.read_csv('../csvs/uriage.csv')\n",
    "\n",
    "flg_is_null = uriage['item_price'].isnull()\n",
    "for trg in list(uriage.loc[flg_is_null, 'item_name'].unique()):\n",
    "  # print(trg)\n",
    "  price = uriage.loc[(~flg_is_null) & (uriage['item_name'] == trg), 'item_price'].max()\n",
    "  print(price)\n",
    "  uriage['item_price'].loc[(flg_is_null) & (uriage['item_name']==trg)] = price\n",
    "\n",
    "uriage.head()\n",
    "# print(uriage.head())"
   ],
   "outputs": [
    {
     "output_type": "stream",
     "name": "stdout",
     "text": [
      "nan\n",
      "100.0\n",
      "nan\n",
      "nan\n",
      "100.0\n",
      "1600.0\n",
      "1400.0\n",
      "2300.0\n",
      "1800.0\n",
      "900.0\n",
      "1200.0\n",
      "600.0\n",
      "nan\n",
      "1900.0\n",
      "200.0\n",
      "300.0\n",
      "2200.0\n",
      "1700.0\n",
      "2100.0\n",
      "1100.0\n",
      "2000.0\n",
      "2400.0\n",
      "500.0\n",
      "1500.0\n",
      "1300.0\n",
      "700.0\n",
      "1000.0\n",
      "400.0\n",
      "2200.0\n",
      "800.0\n",
      "nan\n",
      "2500.0\n",
      "nan\n",
      "1800.0\n"
     ]
    },
    {
     "output_type": "stream",
     "name": "stderr",
     "text": [
      "/Users/hiroki-ikeda/my-lab/tutorial/python/pandas-tutorial-application/checker/.venv/lib/python3.9/site-packages/pandas/core/indexing.py:1732: SettingWithCopyWarning: \n",
      "A value is trying to be set on a copy of a slice from a DataFrame\n",
      "\n",
      "See the caveats in the documentation: https://pandas.pydata.org/pandas-docs/stable/user_guide/indexing.html#returning-a-view-versus-a-copy\n",
      "  self._setitem_single_block(indexer, value, name)\n"
     ]
    },
    {
     "output_type": "execute_result",
     "data": {
      "text/plain": [
       "         purchase_date item_name  item_price customer_name\n",
       "0  2019-06-13 18:02:34       商品A       100.0         深井菜々美\n",
       "1  2019-07-13 13:05:29     商 品 S         NaN          浅田賢二\n",
       "2  2019-05-11 19:42:07     商 品 a       100.0          南部慶二\n",
       "3  2019-02-12 23:40:45       商品Z      2600.0          麻生莉緒\n",
       "4  2019-04-22 03:09:35       商品a         NaN          平田鉄二"
      ],
      "text/html": [
       "<div>\n",
       "<style scoped>\n",
       "    .dataframe tbody tr th:only-of-type {\n",
       "        vertical-align: middle;\n",
       "    }\n",
       "\n",
       "    .dataframe tbody tr th {\n",
       "        vertical-align: top;\n",
       "    }\n",
       "\n",
       "    .dataframe thead th {\n",
       "        text-align: right;\n",
       "    }\n",
       "</style>\n",
       "<table border=\"1\" class=\"dataframe\">\n",
       "  <thead>\n",
       "    <tr style=\"text-align: right;\">\n",
       "      <th></th>\n",
       "      <th>purchase_date</th>\n",
       "      <th>item_name</th>\n",
       "      <th>item_price</th>\n",
       "      <th>customer_name</th>\n",
       "    </tr>\n",
       "  </thead>\n",
       "  <tbody>\n",
       "    <tr>\n",
       "      <th>0</th>\n",
       "      <td>2019-06-13 18:02:34</td>\n",
       "      <td>商品A</td>\n",
       "      <td>100.0</td>\n",
       "      <td>深井菜々美</td>\n",
       "    </tr>\n",
       "    <tr>\n",
       "      <th>1</th>\n",
       "      <td>2019-07-13 13:05:29</td>\n",
       "      <td>商 品 S</td>\n",
       "      <td>NaN</td>\n",
       "      <td>浅田賢二</td>\n",
       "    </tr>\n",
       "    <tr>\n",
       "      <th>2</th>\n",
       "      <td>2019-05-11 19:42:07</td>\n",
       "      <td>商 品 a</td>\n",
       "      <td>100.0</td>\n",
       "      <td>南部慶二</td>\n",
       "    </tr>\n",
       "    <tr>\n",
       "      <th>3</th>\n",
       "      <td>2019-02-12 23:40:45</td>\n",
       "      <td>商品Z</td>\n",
       "      <td>2600.0</td>\n",
       "      <td>麻生莉緒</td>\n",
       "    </tr>\n",
       "    <tr>\n",
       "      <th>4</th>\n",
       "      <td>2019-04-22 03:09:35</td>\n",
       "      <td>商品a</td>\n",
       "      <td>NaN</td>\n",
       "      <td>平田鉄二</td>\n",
       "    </tr>\n",
       "  </tbody>\n",
       "</table>\n",
       "</div>"
      ]
     },
     "metadata": {},
     "execution_count": 56
    }
   ],
   "metadata": {}
  }
 ],
 "metadata": {
  "orig_nbformat": 4,
  "language_info": {
   "name": "python",
   "version": "3.9.4",
   "mimetype": "text/x-python",
   "codemirror_mode": {
    "name": "ipython",
    "version": 3
   },
   "pygments_lexer": "ipython3",
   "nbconvert_exporter": "python",
   "file_extension": ".py"
  },
  "kernelspec": {
   "name": "python3",
   "display_name": "Python 3.9.2 64-bit ('.venv': pipenv)"
  },
  "interpreter": {
   "hash": "bb1879047003ec203b416c4b312ff1e4c8c37d9108f47c026613badfeae5efe3"
  }
 },
 "nbformat": 4,
 "nbformat_minor": 2
}