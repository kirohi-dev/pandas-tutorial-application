{
 "cells": [
  {
   "cell_type": "code",
   "execution_count": 3,
   "source": [
    "import pandas as pd\n",
    "csv = pd.read_csv('../csvs/transaction_1.csv')\n",
    "\n",
    "he = csv.head()\n",
    "print(he)"
   ],
   "outputs": [
    {
     "output_type": "stream",
     "name": "stdout",
     "text": [
      "  transaction_id   price         payment_date customer_id\n",
      "0    T0000000113  210000  2019-02-01 01:36:57    PL563502\n",
      "1    T0000000114   50000  2019-02-01 01:37:23    HD678019\n",
      "2    T0000000115  120000  2019-02-01 02:34:19    HD298120\n",
      "3    T0000000116  210000  2019-02-01 02:47:23    IK452215\n",
      "4    T0000000117  170000  2019-02-01 04:33:46    PL542865\n"
     ]
    }
   ],
   "metadata": {}
  },
  {
   "cell_type": "code",
   "execution_count": 5,
   "source": [
    "import pandas as pd\n",
    "\n",
    "transaction_1 = pd.read_csv('../csvs/transaction_1.csv')\n",
    "transaction_2 = pd.read_csv('../csvs/transaction_2.csv')\n",
    "\n",
    "\n",
    "transaction = pd.concat([transaction_1, transaction_2], ignore_index=True)\n",
    "\n",
    "\n",
    "transaction.to_csv('../csvs/transaction.csv', index=False)"
   ],
   "outputs": [],
   "metadata": {}
  },
  {
   "cell_type": "markdown",
   "source": [],
   "metadata": {}
  },
  {
   "cell_type": "code",
   "execution_count": 7,
   "source": [
    "import pandas as pd\n",
    "\n",
    "detail_1 = pd.read_csv('../csvs/transaction_detail_1.csv')\n",
    "detail_2 = pd.read_csv('../csvs/transaction_detail_2.csv')\n",
    "\n",
    "\n",
    "detail = pd.concat([detail_1, detail_2], ignore_index=True)\n",
    "\n",
    "\n",
    "detail.to_csv('../csvs/detail.csv', index=False)"
   ],
   "outputs": [],
   "metadata": {}
  },
  {
   "cell_type": "code",
   "execution_count": 9,
   "source": [
    "import pandas as pd\n",
    "\n",
    "detail = pd.read_csv('../csvs/detail.csv')\n",
    "tran = pd.read_csv('../csvs/transaction.csv')\n",
    "\n",
    "join_data = pd.merge(detail, transaction, on='transaction_id', how='left')\n",
    "\n",
    "\n",
    "print(join_data.head())"
   ],
   "outputs": [
    {
     "output_type": "stream",
     "name": "stdout",
     "text": [
      "   Unnamed: 0  detail_id transaction_id item_id  quantity   price  \\\n",
      "0           0          0    T0000000113    S005         1  210000   \n",
      "1           1          1    T0000000114    S001         1   50000   \n",
      "2           2          2    T0000000115    S003         1  120000   \n",
      "3           3          3    T0000000116    S005         1  210000   \n",
      "4           4          4    T0000000117    S002         2  170000   \n",
      "\n",
      "          payment_date customer_id  \n",
      "0  2019-02-01 01:36:57    PL563502  \n",
      "1  2019-02-01 01:37:23    HD678019  \n",
      "2  2019-02-01 02:34:19    HD298120  \n",
      "3  2019-02-01 02:47:23    IK452215  \n",
      "4  2019-02-01 04:33:46    PL542865  \n"
     ]
    }
   ],
   "metadata": {}
  }
 ],
 "metadata": {
  "orig_nbformat": 4,
  "language_info": {
   "name": "python",
   "version": "3.9.5",
   "mimetype": "text/x-python",
   "codemirror_mode": {
    "name": "ipython",
    "version": 3
   },
   "pygments_lexer": "ipython3",
   "nbconvert_exporter": "python",
   "file_extension": ".py"
  },
  "kernelspec": {
   "name": "python3",
   "display_name": "Python 3.9.5 64-bit ('.venv': pipenv)"
  },
  "interpreter": {
   "hash": "ad52cfe3e87fcbd090a9025a8bbcd70e20671f18c79eaf44a3a645b0c5761c9e"
  }
 },
 "nbformat": 4,
 "nbformat_minor": 2
}